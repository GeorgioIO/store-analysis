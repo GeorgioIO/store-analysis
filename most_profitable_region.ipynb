{
 "cells": [
  {
   "cell_type": "markdown",
   "id": "3c95ffab",
   "metadata": {},
   "source": [
    "# What is the most profitable region for the store ?\n",
    "\n",
    "### Methodology\n",
    "\n",
    "1. Group by data by Region\n",
    "2. Calculate Profit sum of each region\n",
    "3. Sort ascending (Visualization purposes)\n",
    "4. Plot final findings"
   ]
  },
  {
   "cell_type": "markdown",
   "id": "0bce6f31",
   "metadata": {},
   "source": [
    "## Import Libraris and Data"
   ]
  },
  {
   "cell_type": "code",
   "execution_count": 12,
   "id": "32599687",
   "metadata": {},
   "outputs": [],
   "source": [
    "# Importing libraris ill use\n",
    "import pandas as pd\n",
    "import matplotlib.pyplot as plt\n",
    "import numpy as np\n",
    "import calendar\n",
    "import humanize\n",
    "\n",
    "\n",
    "# TODO : Loading the data\n",
    "data = pd.read_csv('data/superstore.csv' , encoding='latin1')"
   ]
  },
  {
   "cell_type": "markdown",
   "id": "b766d092",
   "metadata": {},
   "source": [
    "## Data Cleaning"
   ]
  },
  {
   "cell_type": "code",
   "execution_count": 13,
   "id": "8f0dceb8",
   "metadata": {},
   "outputs": [
    {
     "name": "stdout",
     "output_type": "stream",
     "text": [
      "Discount Higher then 1 founded and fixed\n"
     ]
    }
   ],
   "source": [
    "\n",
    "# TODO : Data Cleaning Phase + managing types\n",
    "data['Order Date'] = pd.to_datetime(data['Order Date'])\n",
    "data['Ship Date'] = pd.to_datetime(data['Ship Date'])\n",
    "\n",
    "col_to_categorize = ['Ship Mode' , 'Sub-Category' , 'Category' , 'Region' , 'Segment' , 'State']\n",
    "for col in col_to_categorize:\n",
    "    data[col] = data[col].astype('category')\n",
    "\n",
    "# Treat duplicate rows\n",
    "duplicated_sum = data.duplicated().sum()\n",
    "if duplicated_sum > 0 :\n",
    "    data.drop_duplicates(inplace=True)\n",
    "\n",
    "most_occurent_ship_mode = data['Ship Mode'].mode()[0]\n",
    "most_occurent_segment = data['Segment'].mode()[0]\n",
    "\n",
    "data['Ship Mode'] = data['Ship Mode'].fillna(most_occurent_ship_mode)\n",
    "data['Segment'] = data['Segment'].fillna(most_occurent_segment)\n",
    "\n",
    "# Check if any discounts higher then 1\n",
    "discount_higher_then_01 = (data['Discount'] > 1).sum()\n",
    "if discount_higher_then_01 >= 1:\n",
    "    print(\"Discount Higher then 1 founded and fixed\")\n",
    "    data['Discount'] = np.where(data['Discount'] > 1 , data['Discount'].median() , data['Discount'])\n"
   ]
  },
  {
   "cell_type": "markdown",
   "id": "82c730d7",
   "metadata": {},
   "source": [
    "## Engineering Features"
   ]
  },
  {
   "cell_type": "code",
   "execution_count": 14,
   "id": "9856b340",
   "metadata": {},
   "outputs": [],
   "source": [
    "# TODO : Engineering features\n",
    "months = list(calendar.month_name)[1:]\n",
    "data['Year'] = data['Order Date'].dt.strftime(\"%Y\")\n",
    "data['Month'] = data['Order Date'].dt.strftime(\"%B\")\n",
    "# Convert Month column to an ordered categorical type\n",
    "data['Month'] = pd.Categorical(data['Month'] , categories=months , ordered=True)\n",
    "data.set_index(\"Row ID\" , inplace=True)\n",
    "\n",
    "\n",
    "# Sort Columns\n",
    "data.sort_values(by='Year' , ascending=False , inplace=True)"
   ]
  },
  {
   "cell_type": "markdown",
   "id": "dfb78250",
   "metadata": {},
   "source": [
    "## The Analysis"
   ]
  },
  {
   "cell_type": "markdown",
   "id": "2187ef71",
   "metadata": {},
   "source": [
    "Grouped the data by `Region` focusing on Profit column and summing the profits per region , and then i renamed the column from `Profit` to \n",
    "`Total Profit` for readability , i rounded the value to the nearest integer and then changed the type for `int` , and finally sorted the values in descending order."
   ]
  },
  {
   "cell_type": "code",
   "execution_count": 15,
   "id": "61bddd6e",
   "metadata": {},
   "outputs": [
    {
     "data": {
      "text/html": [
       "<div>\n",
       "<style scoped>\n",
       "    .dataframe tbody tr th:only-of-type {\n",
       "        vertical-align: middle;\n",
       "    }\n",
       "\n",
       "    .dataframe tbody tr th {\n",
       "        vertical-align: top;\n",
       "    }\n",
       "\n",
       "    .dataframe thead th {\n",
       "        text-align: right;\n",
       "    }\n",
       "</style>\n",
       "<table border=\"1\" class=\"dataframe\">\n",
       "  <thead>\n",
       "    <tr style=\"text-align: right;\">\n",
       "      <th></th>\n",
       "      <th>Total Profit</th>\n",
       "    </tr>\n",
       "    <tr>\n",
       "      <th>Region</th>\n",
       "      <th></th>\n",
       "    </tr>\n",
       "  </thead>\n",
       "  <tbody>\n",
       "    <tr>\n",
       "      <th>West</th>\n",
       "      <td>108491</td>\n",
       "    </tr>\n",
       "    <tr>\n",
       "      <th>East</th>\n",
       "      <td>91523</td>\n",
       "    </tr>\n",
       "    <tr>\n",
       "      <th>South</th>\n",
       "      <td>46749</td>\n",
       "    </tr>\n",
       "    <tr>\n",
       "      <th>Central</th>\n",
       "      <td>39706</td>\n",
       "    </tr>\n",
       "  </tbody>\n",
       "</table>\n",
       "</div>"
      ],
      "text/plain": [
       "         Total Profit\n",
       "Region               \n",
       "West           108491\n",
       "East            91523\n",
       "South           46749\n",
       "Central         39706"
      ]
     },
     "execution_count": 15,
     "metadata": {},
     "output_type": "execute_result"
    }
   ],
   "source": [
    "most_profitable_regions = data.groupby('Region' , observed=False)[[ 'Profit']].sum()\n",
    "most_profitable_regions.rename(columns={'Profit':'Total Profit'} , inplace=True)\n",
    "most_profitable_regions['Total Profit'] = round(most_profitable_regions['Total Profit']).astype(int)\n",
    "most_profitable_regions.sort_values(by='Total Profit' , ascending=False , inplace=True)\n",
    "most_profitable_regions"
   ]
  },
  {
   "cell_type": "markdown",
   "id": "b919b1c8",
   "metadata": {},
   "source": [
    "## Plotting\n",
    "\n",
    "Created a bar chart for the most profitable regions in the store , displaying the total profit of each one"
   ]
  },
  {
   "cell_type": "code",
   "execution_count": 18,
   "id": "3da6653e",
   "metadata": {},
   "outputs": [
    {
     "data": {
      "image/png": "[encoded data removed]",
      "text/plain": [
       "<Figure size 1200x600 with 1 Axes>"
      ]
     },
     "metadata": {},
     "output_type": "display_data"
    }
   ],
   "source": [
    "plt.figure(figsize=(12,6))\n",
    "most_profitable_regions_bars = plt.bar(most_profitable_regions.index , most_profitable_regions['Total Profit'])\n",
    "plt.bar_label(most_profitable_regions_bars , label_type='edge' , padding=3)\n",
    "plt.xticks(fontsize=6)\n",
    "plt.xlabel(\"Region\")\n",
    "plt.ylabel(\"Total Profit in USD\")\n",
    "plt.title(\"What is the most profitable region for the store ?\")\n",
    "plt.show()"
   ]
  }
 ],
 "metadata": {
  "kernelspec": {
   "display_name": "Python 3",
   "language": "python",
   "name": "python3"
  },
  "language_info": {
   "codemirror_mode": {
    "name": "ipython",
    "version": 3
   },
   "file_extension": ".py",
   "mimetype": "text/x-python",
   "name": "python",
   "nbconvert_exporter": "python",
   "pygments_lexer": "ipython3",
   "version": "3.13.5"
  }
 },
 "nbformat": 4,
 "nbformat_minor": 5
}
