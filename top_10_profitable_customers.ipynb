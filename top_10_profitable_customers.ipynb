{
 "cells": [
  {
   "cell_type": "markdown",
   "id": "3c95ffab",
   "metadata": {},
   "source": [
    "# Who are the top customers for the most profitable region ? ?\n",
    "\n",
    "### Methodology\n",
    "\n",
    "1. Filter dataset to include only **West** (most profitable region) customers\n",
    "2. grouped by Customer ID\n",
    "3. Rename column\n",
    "4. Sort result by Total Profit descending\n",
    "5. Get top 10 rows\n",
    "6. Plot final findings"
   ]
  },
  {
   "cell_type": "markdown",
   "id": "0bce6f31",
   "metadata": {},
   "source": [
    "## Import Libraris and Data"
   ]
  },
  {
   "cell_type": "code",
   "execution_count": 17,
   "id": "32599687",
   "metadata": {},
   "outputs": [],
   "source": [
    "# Importing libraris ill use\n",
    "import pandas as pd\n",
    "import matplotlib.pyplot as plt\n",
    "import numpy as np\n",
    "import calendar\n",
    "import humanize\n",
    "\n",
    "\n",
    "# TODO : Loading the data\n",
    "data = pd.read_csv('data/superstore.csv' , encoding='latin1')"
   ]
  },
  {
   "cell_type": "markdown",
   "id": "b766d092",
   "metadata": {},
   "source": [
    "## Data Cleaning"
   ]
  },
  {
   "cell_type": "code",
   "execution_count": 18,
   "id": "8f0dceb8",
   "metadata": {},
   "outputs": [
    {
     "name": "stdout",
     "output_type": "stream",
     "text": [
      "Discount Higher then 1 founded and fixed\n"
     ]
    }
   ],
   "source": [
    "\n",
    "# TODO : Data Cleaning Phase + managing types\n",
    "data['Order Date'] = pd.to_datetime(data['Order Date'])\n",
    "data['Ship Date'] = pd.to_datetime(data['Ship Date'])\n",
    "\n",
    "col_to_categorize = ['Ship Mode' , 'Sub-Category' , 'Category' , 'Region' , 'Segment' , 'State']\n",
    "for col in col_to_categorize:\n",
    "    data[col] = data[col].astype('category')\n",
    "\n",
    "# Treat duplicate rows\n",
    "duplicated_sum = data.duplicated().sum()\n",
    "if duplicated_sum > 0 :\n",
    "    data.drop_duplicates(inplace=True)\n",
    "\n",
    "most_occurent_ship_mode = data['Ship Mode'].mode()[0]\n",
    "most_occurent_segment = data['Segment'].mode()[0]\n",
    "\n",
    "data['Ship Mode'] = data['Ship Mode'].fillna(most_occurent_ship_mode)\n",
    "data['Segment'] = data['Segment'].fillna(most_occurent_segment)\n",
    "\n",
    "# Check if any discounts higher then 1\n",
    "discount_higher_then_01 = (data['Discount'] > 1).sum()\n",
    "if discount_higher_then_01 >= 1:\n",
    "    print(\"Discount Higher then 1 founded and fixed\")\n",
    "    data['Discount'] = np.where(data['Discount'] > 1 , data['Discount'].median() , data['Discount'])\n"
   ]
  },
  {
   "cell_type": "markdown",
   "id": "82c730d7",
   "metadata": {},
   "source": [
    "## Engineering Features"
   ]
  },
  {
   "cell_type": "code",
   "execution_count": 19,
   "id": "9856b340",
   "metadata": {},
   "outputs": [],
   "source": [
    "# TODO : Engineering features\n",
    "months = list(calendar.month_name)[1:]\n",
    "data['Year'] = data['Order Date'].dt.strftime(\"%Y\")\n",
    "data['Month'] = data['Order Date'].dt.strftime(\"%B\")\n",
    "# Convert Month column to an ordered categorical type\n",
    "data['Month'] = pd.Categorical(data['Month'] , categories=months , ordered=True)\n",
    "data.set_index(\"Row ID\" , inplace=True)\n",
    "\n",
    "\n",
    "# Sort Columns\n",
    "data.sort_values(by='Year' , ascending=False , inplace=True)"
   ]
  },
  {
   "cell_type": "markdown",
   "id": "dfb78250",
   "metadata": {},
   "source": [
    "## The Analysis"
   ]
  },
  {
   "cell_type": "markdown",
   "id": "2187ef71",
   "metadata": {},
   "source": [
    "First of all i used recent analysis (**most profitable region**) to get the meant region , then i filtered the dataset based on that value , i grouped the result by `Customer ID` including also `Customer Name` and `State` , i renamed the column to `Total Profit` just for readability purposes , then used `head()` to get the top 10 rows."
   ]
  },
  {
   "cell_type": "code",
   "execution_count": 20,
   "id": "c41da603",
   "metadata": {},
   "outputs": [],
   "source": [
    "most_profitable_regions = data.groupby('Region' , observed=False)[[ 'Profit']].sum()\n",
    "most_profitable_regions.rename(columns={'Profit':'Total Profit'} , inplace=True)\n",
    "most_profitable_regions['Total Profit'] = round(most_profitable_regions['Total Profit']).astype(int)\n",
    "most_profitable_regions.sort_values(by='Total Profit' , ascending=False , inplace=True)"
   ]
  },
  {
   "cell_type": "code",
   "execution_count": 21,
   "id": "61bddd6e",
   "metadata": {},
   "outputs": [
    {
     "data": {
      "text/html": [
       "<div>\n",
       "<style scoped>\n",
       "    .dataframe tbody tr th:only-of-type {\n",
       "        vertical-align: middle;\n",
       "    }\n",
       "\n",
       "    .dataframe tbody tr th {\n",
       "        vertical-align: top;\n",
       "    }\n",
       "\n",
       "    .dataframe thead th {\n",
       "        text-align: right;\n",
       "    }\n",
       "</style>\n",
       "<table border=\"1\" class=\"dataframe\">\n",
       "  <thead>\n",
       "    <tr style=\"text-align: right;\">\n",
       "      <th></th>\n",
       "      <th>Customer ID</th>\n",
       "      <th>State</th>\n",
       "      <th>Total Profit</th>\n",
       "    </tr>\n",
       "    <tr>\n",
       "      <th>Customer Name</th>\n",
       "      <th></th>\n",
       "      <th></th>\n",
       "      <th></th>\n",
       "    </tr>\n",
       "  </thead>\n",
       "  <tbody>\n",
       "    <tr>\n",
       "      <th>Raymond Buch</th>\n",
       "      <td>RB-19360</td>\n",
       "      <td>Washington</td>\n",
       "      <td>6734</td>\n",
       "    </tr>\n",
       "    <tr>\n",
       "      <th>Jane Waco</th>\n",
       "      <td>JW-15220</td>\n",
       "      <td>California</td>\n",
       "      <td>2069</td>\n",
       "    </tr>\n",
       "    <tr>\n",
       "      <th>Fred Hopkins</th>\n",
       "      <td>FH-14365</td>\n",
       "      <td>Washington</td>\n",
       "      <td>1930</td>\n",
       "    </tr>\n",
       "    <tr>\n",
       "      <th>Dennis Pardue</th>\n",
       "      <td>DP-13390</td>\n",
       "      <td>Nevada</td>\n",
       "      <td>1691</td>\n",
       "    </tr>\n",
       "    <tr>\n",
       "      <th>Robert Marley</th>\n",
       "      <td>RM-19675</td>\n",
       "      <td>California</td>\n",
       "      <td>1598</td>\n",
       "    </tr>\n",
       "    <tr>\n",
       "      <th>Alan Dominguez</th>\n",
       "      <td>AD-10180</td>\n",
       "      <td>Montana</td>\n",
       "      <td>1455</td>\n",
       "    </tr>\n",
       "    <tr>\n",
       "      <th>Yana Sorensen</th>\n",
       "      <td>YS-21880</td>\n",
       "      <td>Washington</td>\n",
       "      <td>1255</td>\n",
       "    </tr>\n",
       "    <tr>\n",
       "      <th>Joseph Holt</th>\n",
       "      <td>JH-15985</td>\n",
       "      <td>Washington</td>\n",
       "      <td>1076</td>\n",
       "    </tr>\n",
       "    <tr>\n",
       "      <th>Gary Hwang</th>\n",
       "      <td>GH-14425</td>\n",
       "      <td>Washington</td>\n",
       "      <td>1073</td>\n",
       "    </tr>\n",
       "    <tr>\n",
       "      <th>Penelope Sewall</th>\n",
       "      <td>PS-19045</td>\n",
       "      <td>California</td>\n",
       "      <td>1056</td>\n",
       "    </tr>\n",
       "  </tbody>\n",
       "</table>\n",
       "</div>"
      ],
      "text/plain": [
       "                Customer ID       State  Total Profit\n",
       "Customer Name                                        \n",
       "Raymond Buch       RB-19360  Washington          6734\n",
       "Jane Waco          JW-15220  California          2069\n",
       "Fred Hopkins       FH-14365  Washington          1930\n",
       "Dennis Pardue      DP-13390      Nevada          1691\n",
       "Robert Marley      RM-19675  California          1598\n",
       "Alan Dominguez     AD-10180     Montana          1455\n",
       "Yana Sorensen      YS-21880  Washington          1255\n",
       "Joseph Holt        JH-15985  Washington          1076\n",
       "Gary Hwang         GH-14425  Washington          1073\n",
       "Penelope Sewall    PS-19045  California          1056"
      ]
     },
     "execution_count": 21,
     "metadata": {},
     "output_type": "execute_result"
    }
   ],
   "source": [
    "most_prof_region = most_profitable_regions['Total Profit'].idxmax()\n",
    "customers_rg = data[data['Region'] == most_prof_region]\n",
    "profit_per_customers = customers_rg.groupby(['Customer ID' , 'Customer Name' , 'State'] , observed=True)[['Profit']].sum().astype(int).reset_index().set_index('Customer Name')\n",
    "profit_per_customers.rename(columns={'Profit':'Total Profit'} , inplace=True)\n",
    "profit_per_customers.sort_values(by='Total Profit' , ascending=False , inplace=True)\n",
    "top_ten_profitable_customers = profit_per_customers.head(10)\n",
    "top_ten_profitable_customers"
   ]
  },
  {
   "cell_type": "markdown",
   "id": "b919b1c8",
   "metadata": {},
   "source": [
    "## Plotting\n",
    "\n",
    "Created a column chart to visualize the top 10 most profitable west customers"
   ]
  },
  {
   "cell_type": "code",
   "execution_count": 22,
   "id": "3da6653e",
   "metadata": {},
   "outputs": [
    {
     "data": {
      "image/png": "[encoded data removed]",
      "text/plain": [
       "<Figure size 1200x600 with 1 Axes>"
      ]
     },
     "metadata": {},
     "output_type": "display_data"
    }
   ],
   "source": [
    "plt.style.use('ggplot')\n",
    "plt.figure(figsize=(12,6))\n",
    "top_ten_prof_orders_bars = plt.bar(top_ten_profitable_customers.index , top_ten_profitable_customers['Total Profit'])\n",
    "plt.bar_label(top_ten_prof_orders_bars , label_type='edge' , padding=3)\n",
    "plt.xticks(fontsize=6)\n",
    "plt.xlabel(\"Customer Name\")\n",
    "plt.ylabel(\"Total Profit in USD\")\n",
    "plt.title(\"Top 10 most profitable west customers ($USD)\")\n",
    "plt.savefig(\"figures/question_5_fig.png\") \n",
    "plt.show()"
   ]
  }
 ],
 "metadata": {
  "kernelspec": {
   "display_name": "Python 3",
   "language": "python",
   "name": "python3"
  },
  "language_info": {
   "codemirror_mode": {
    "name": "ipython",
    "version": 3
   },
   "file_extension": ".py",
   "mimetype": "text/x-python",
   "name": "python",
   "nbconvert_exporter": "python",
   "pygments_lexer": "ipython3",
   "version": "3.13.5"
  }
 },
 "nbformat": 4,
 "nbformat_minor": 5
}
